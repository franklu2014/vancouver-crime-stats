{
 "cells": [
  {
   "cell_type": "code",
   "execution_count": 2,
   "metadata": {},
   "outputs": [
    {
     "data": {
      "text/plain": [
       "DataTransformerRegistry.enable('json')"
      ]
     },
     "execution_count": 2,
     "metadata": {},
     "output_type": "execute_result"
    }
   ],
   "source": [
    "import numpy as np\n",
    "import pandas as pd\n",
    "import altair as alt\n",
    "import os as os\n",
    "alt.data_transformers.enable('json')"
   ]
  },
  {
   "cell_type": "code",
   "execution_count": 3,
   "metadata": {},
   "outputs": [
    {
     "data": {
      "text/plain": [
       "'/home/dkruszew/Documents/labs/DSCI-532-Group108/scr'"
      ]
     },
     "execution_count": 3,
     "metadata": {},
     "output_type": "execute_result"
    }
   ],
   "source": [
    "os.getcwd()"
   ]
  },
  {
   "cell_type": "code",
   "execution_count": 4,
   "metadata": {},
   "outputs": [],
   "source": [
    "df = pd.read_csv('../data/crimedata_csv_all_years.csv')"
   ]
  },
  {
   "cell_type": "code",
   "execution_count": 5,
   "metadata": {},
   "outputs": [],
   "source": [
    "df['DATE'] = pd.to_datetime({'year':df['YEAR'],\n",
    "                            'month':df['MONTH'],\n",
    "                            'day':df['DAY'],\n",
    "                            'hour':df['HOUR']})\n",
    "dofw = pd.DataFrame({'day_of_week': [\"Monday\", \"Tuesday\", \"Wednesday\", \"Thursday\", \"Friday\", \"Saturday\", \"Sunday\"],\n",
    "                    'day_index': [1,2,3,4,5,6,7]})\n",
    "df['day_of_week'] = pd.DatetimeIndex(df['DATE']).day_name()\n",
    "df = pd.merge(df, dofw, how=\"left\", on=\"day_of_week\")"
   ]
  },
  {
   "cell_type": "code",
   "execution_count": 6,
   "metadata": {},
   "outputs": [
    {
     "data": {
      "text/plain": [
       "DAY    0.37681\n",
       "dtype: float64"
      ]
     },
     "execution_count": 6,
     "metadata": {},
     "output_type": "execute_result"
    }
   ],
   "source": [
    "(df.groupby(['TYPE', 'NEIGHBOURHOOD']).count()/df.groupby(['TYPE']).count())[['DAY']].max()"
   ]
  },
  {
   "cell_type": "code",
   "execution_count": 7,
   "metadata": {},
   "outputs": [],
   "source": [
    "df_line = df.query('TYPE == \"Break and Enter Commercial\"').groupby(['YEAR']).count().reset_index()"
   ]
  },
  {
   "cell_type": "code",
   "execution_count": 8,
   "metadata": {},
   "outputs": [
    {
     "data": {
      "text/html": [
       "<div>\n",
       "<style scoped>\n",
       "    .dataframe tbody tr th:only-of-type {\n",
       "        vertical-align: middle;\n",
       "    }\n",
       "\n",
       "    .dataframe tbody tr th {\n",
       "        vertical-align: top;\n",
       "    }\n",
       "\n",
       "    .dataframe thead th {\n",
       "        text-align: right;\n",
       "    }\n",
       "</style>\n",
       "<table border=\"1\" class=\"dataframe\">\n",
       "  <thead>\n",
       "    <tr style=\"text-align: right;\">\n",
       "      <th></th>\n",
       "      <th>YEAR</th>\n",
       "      <th>TYPE</th>\n",
       "      <th>MONTH</th>\n",
       "      <th>DAY</th>\n",
       "      <th>HOUR</th>\n",
       "      <th>MINUTE</th>\n",
       "      <th>HUNDRED_BLOCK</th>\n",
       "      <th>NEIGHBOURHOOD</th>\n",
       "      <th>X</th>\n",
       "      <th>Y</th>\n",
       "    </tr>\n",
       "  </thead>\n",
       "  <tbody>\n",
       "    <tr>\n",
       "      <th>0</th>\n",
       "      <td>2003</td>\n",
       "      <td>3197</td>\n",
       "      <td>3197</td>\n",
       "      <td>3197</td>\n",
       "      <td>3197</td>\n",
       "      <td>3197</td>\n",
       "      <td>3197</td>\n",
       "      <td>3197</td>\n",
       "      <td>3197</td>\n",
       "      <td>3197</td>\n",
       "    </tr>\n",
       "    <tr>\n",
       "      <th>1</th>\n",
       "      <td>2004</td>\n",
       "      <td>3283</td>\n",
       "      <td>3283</td>\n",
       "      <td>3283</td>\n",
       "      <td>3283</td>\n",
       "      <td>3283</td>\n",
       "      <td>3283</td>\n",
       "      <td>3283</td>\n",
       "      <td>3283</td>\n",
       "      <td>3283</td>\n",
       "    </tr>\n",
       "    <tr>\n",
       "      <th>2</th>\n",
       "      <td>2005</td>\n",
       "      <td>2639</td>\n",
       "      <td>2639</td>\n",
       "      <td>2639</td>\n",
       "      <td>2639</td>\n",
       "      <td>2639</td>\n",
       "      <td>2639</td>\n",
       "      <td>2638</td>\n",
       "      <td>2639</td>\n",
       "      <td>2639</td>\n",
       "    </tr>\n",
       "    <tr>\n",
       "      <th>3</th>\n",
       "      <td>2006</td>\n",
       "      <td>2844</td>\n",
       "      <td>2844</td>\n",
       "      <td>2844</td>\n",
       "      <td>2844</td>\n",
       "      <td>2844</td>\n",
       "      <td>2844</td>\n",
       "      <td>2844</td>\n",
       "      <td>2844</td>\n",
       "      <td>2844</td>\n",
       "    </tr>\n",
       "    <tr>\n",
       "      <th>4</th>\n",
       "      <td>2007</td>\n",
       "      <td>2436</td>\n",
       "      <td>2436</td>\n",
       "      <td>2436</td>\n",
       "      <td>2436</td>\n",
       "      <td>2436</td>\n",
       "      <td>2436</td>\n",
       "      <td>2434</td>\n",
       "      <td>2436</td>\n",
       "      <td>2436</td>\n",
       "    </tr>\n",
       "  </tbody>\n",
       "</table>\n",
       "</div>"
      ],
      "text/plain": [
       "   YEAR  TYPE  MONTH   DAY  HOUR  MINUTE  HUNDRED_BLOCK  NEIGHBOURHOOD     X  \\\n",
       "0  2003  3197   3197  3197  3197    3197           3197           3197  3197   \n",
       "1  2004  3283   3283  3283  3283    3283           3283           3283  3283   \n",
       "2  2005  2639   2639  2639  2639    2639           2639           2638  2639   \n",
       "3  2006  2844   2844  2844  2844    2844           2844           2844  2844   \n",
       "4  2007  2436   2436  2436  2436    2436           2436           2434  2436   \n",
       "\n",
       "      Y  \n",
       "0  3197  \n",
       "1  3283  \n",
       "2  2639  \n",
       "3  2844  \n",
       "4  2436  "
      ]
     },
     "execution_count": 8,
     "metadata": {},
     "output_type": "execute_result"
    }
   ],
   "source": [
    "df_line.head()"
   ]
  },
  {
   "cell_type": "code",
   "execution_count": 7,
   "metadata": {},
   "outputs": [
    {
     "data": {
      "text/plain": [
       "array(['Break and Enter Commercial', 'Break and Enter Residential/Other',\n",
       "       'Homicide', 'Mischief', 'Offence Against a Person', 'Other Theft',\n",
       "       'Theft from Vehicle', 'Theft of Bicycle', 'Theft of Vehicle',\n",
       "       'Vehicle Collision or Pedestrian Struck (with Fatality)',\n",
       "       'Vehicle Collision or Pedestrian Struck (with Injury)'],\n",
       "      dtype=object)"
      ]
     },
     "execution_count": 7,
     "metadata": {},
     "output_type": "execute_result"
    }
   ],
   "source": [
    "df['TYPE'].unique()"
   ]
  },
  {
   "cell_type": "code",
   "execution_count": 36,
   "metadata": {},
   "outputs": [
    {
     "data": {
      "application/vnd.vegalite.v3+json": {
       "$schema": "https://vega.github.io/schema/vega-lite/v3.4.0.json",
       "config": {
        "axis": {
         "labelFontSize": 12,
         "titleFontSize": 15
        },
        "axisX": {
         "grid": true,
         "labelAngle": 45
        },
        "background": "#f7e0bc",
        "mark": {
         "tooltip": null
        },
        "title": {
         "fontSize": 15
        },
        "view": {
         "height": 300,
         "width": 400
        }
       },
       "data": {
        "format": {
         "type": "json"
        },
        "url": "altair-data-9cb01e5f5c2d10c29aff97d56bffb923.json"
       },
       "encoding": {
        "color": {
         "value": "blue"
        },
        "x": {
         "field": "HOUR",
         "type": "nominal"
        },
        "y": {
         "field": "TYPE",
         "title": "Number of Crimes",
         "type": "quantitative"
        }
       },
       "height": 300,
       "mark": "line",
       "title": "Theft of Bicycle",
       "width": 500
      },
      "image/png": "[encoded data removed]",
      "text/plain": [
       "<VegaLite 3 object>\n",
       "\n",
       "If you see this message, it means the renderer has not been properly enabled\n",
       "for the frontend that you are using. For more information, see\n",
       "https://altair-viz.github.io/user_guide/troubleshooting.html\n"
      ]
     },
     "execution_count": 36,
     "metadata": {},
     "output_type": "execute_result"
    }
   ],
   "source": [
    "time_scale = \"HOUR\"\n",
    "crime = \"Theft of Bicycle\"\n",
    "neighbourhood = \"ALL\"\n",
    "\n",
    "if neighbourhood != \"ALL\":\n",
    "    if crime != \"ALL\":\n",
    "        df_line = df.query('TYPE == @crime & NEIGHBOURHOOD == @neighbourhood').groupby([time_scale]).count().reset_index()\n",
    "    else:    \n",
    "        df_line = df.query('NEIGHBOURHOOD == @neighbourhood').groupby([time_scale]).count().reset_index()\n",
    "else:\n",
    "    if crime != \"ALL\":\n",
    "        df_line = df.query('TYPE == @crime').groupby([time_scale]).count().reset_index()\n",
    "    else:\n",
    "        df_line = df.groupby([time_scale]).count().reset_index() \n",
    "    \n",
    "alt.Chart(df_line).mark_line().encode(\n",
    "    alt.X(time_scale+':N'),\n",
    "    alt.Y('TYPE:Q', title='Number of Crimes'),\n",
    "    alt.Color(value=\"blue\")\n",
    ").configure(\n",
    "    background='#f7e0bc' #HEX color code\n",
    ").configure_axisX(\n",
    "    labelAngle=45,\n",
    "    grid=True\n",
    ").configure_axis(\n",
    "    labelFontSize=12,\n",
    "    titleFontSize=15\n",
    ").configure_title(\n",
    "    fontSize=15\n",
    ").properties(\n",
    "height=300,\n",
    "width=500,\n",
    "title=crime\n",
    ")"
   ]
  },
  {
   "cell_type": "code",
   "execution_count": null,
   "metadata": {},
   "outputs": [],
   "source": []
  }
 ],
 "metadata": {
  "kernelspec": {
   "display_name": "Python 3",
   "language": "python",
   "name": "python3"
  },
  "language_info": {
   "codemirror_mode": {
    "name": "ipython",
    "version": 3
   },
   "file_extension": ".py",
   "mimetype": "text/x-python",
   "name": "python",
   "nbconvert_exporter": "python",
   "pygments_lexer": "ipython3",
   "version": "3.7.5"
  }
 },
 "nbformat": 4,
 "nbformat_minor": 4
}
